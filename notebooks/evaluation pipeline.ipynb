{
 "cells": [
  {
   "cell_type": "code",
   "execution_count": 1,
   "id": "92a427cb-657a-4b01-903a-58c1e6ee1257",
   "metadata": {},
   "outputs": [],
   "source": [
    "# importing libraries\n",
    "import cv2\n",
    "import numpy as np\n",
    "from skimage import io as skimage_io\n",
    "from skimage.measure import shannon_entropy\n",
    "from skimage.metrics import structural_similarity as ssim\n",
    "from sklearn.metrics import mutual_info_score\n",
    "import matplotlib.pyplot as plt"
   ]
  },
  {
   "cell_type": "code",
   "execution_count": 2,
   "id": "40676170-0bd2-45e0-85bd-a9ee2f7c2784",
   "metadata": {},
   "outputs": [],
   "source": [
    "def calculate_entropy(image):\n",
    "    gray_image = cv2.cvtColor(image, cv2.COLOR_BGR2GRAY)\n",
    "    return shannon_entropy(gray_image)"
   ]
  },
  {
   "cell_type": "code",
   "execution_count": 3,
   "id": "a253fd8f-f4af-4216-a43e-290073368c40",
   "metadata": {},
   "outputs": [],
   "source": [
    "def calculate_clarity(image):\n",
    "    gray_image = cv2.cvtColor(image, cv2.COLOR_BGR2GRAY)\n",
    "    sobel_x = cv2.Sobel(gray_image, cv2.CV_64F, 1, 0, ksize=3)\n",
    "    sobel_y = cv2.Sobel(gray_image, cv2.CV_64F, 0, 1, ksize=3)\n",
    "    sobel_magnitude = np.sqrt(sobel_x**2 + sobel_y**2)\n",
    "    clarity = np.mean(sobel_magnitude)\n",
    "    return clarity"
   ]
  },
  {
   "cell_type": "code",
   "execution_count": 4,
   "id": "f500334a-710b-45aa-8d6a-011d7f3f0d03",
   "metadata": {},
   "outputs": [],
   "source": [
    "def calculate_registration_error(original_points, transformed_points):\n",
    "    if len(original_points) != len(transformed_points):\n",
    "        raise ValueError(\"Points lists must have the same length.\")\n",
    "    errors = np.sqrt(np.sum((np.array(original_points) - np.array(transformed_points))**2, axis=1))\n",
    "    return np.mean(errors)"
   ]
  },
  {
   "cell_type": "code",
   "execution_count": 5,
   "id": "a6b42f47-7520-4962-b458-e39d485021a0",
   "metadata": {},
   "outputs": [],
   "source": [
    "def calculate_mutual_information(reference_image, mosaic_image):\n",
    "    hist_2d, _, _ = np.histogram2d(reference_image.ravel(), mosaic_image.ravel(), bins=20)\n",
    "    mi = mutual_info_score(None, None, contingency=hist_2d)\n",
    "    return mi"
   ]
  },
  {
   "cell_type": "code",
   "execution_count": 6,
   "id": "1c60fd83-9fc0-422e-aa68-ec507fd4d959",
   "metadata": {},
   "outputs": [],
   "source": [
    "def calculate_psnr(reference_image, mosaic_image, max_psnr=100):\n",
    "    mse = np.mean((reference_image - mosaic_image) ** 2)\n",
    "    if mse == 0:\n",
    "        return max_psnr\n",
    "    PIXEL_MAX = 255.0\n",
    "    return 20 * np.log10(PIXEL_MAX / np.sqrt(mse))"
   ]
  },
  {
   "cell_type": "code",
   "execution_count": 12,
   "id": "97015740-cbcc-42ff-86fc-3e33e826fe04",
   "metadata": {},
   "outputs": [],
   "source": [
    "def calculate_ssim(reference_image, mosaic_image):\n",
    "    try:\n",
    "        # Convert images to grayscale\n",
    "        reference_image_gray = cv2.cvtColor(reference_image, cv2.COLOR_BGR2GRAY)\n",
    "        mosaic_image_gray = cv2.cvtColor(mosaic_image, cv2.COLOR_BGR2GRAY)\n",
    "        \n",
    "        # Ensure window size is appropriate\n",
    "        min_dim = min(reference_image_gray.shape[0], reference_image_gray.shape[1],\n",
    "                      mosaic_image_gray.shape[0], mosaic_image_gray.shape[1])\n",
    "        win_size = min(7, min_dim - 1 if min_dim % 2 == 0 else min_dim)\n",
    "        \n",
    "        return ssim(reference_image_gray, mosaic_image_gray, win_size=win_size)\n",
    "    except Exception as e:\n",
    "        # Print the error message and return the worst SSIM value\n",
    "        print(f\"Error calculating SSIM: {e}\")\n",
    "        return 0"
   ]
  },
  {
   "cell_type": "code",
   "execution_count": 8,
   "id": "1d193238-91c5-4239-93f9-72def8fc6232",
   "metadata": {},
   "outputs": [],
   "source": [
    "def resize_image(image, target_shape):\n",
    "    return cv2.resize(image, (target_shape[1], target_shape[0]), interpolation=cv2.INTER_AREA)\n",
    "\n",
    "def evaluate_mosaic(reference_image_path, mosaic_image_path, reference_points, transformed_points):\n",
    "    # Load images\n",
    "    reference_image = skimage_io.imread(reference_image_path)\n",
    "    mosaic_image = skimage_io.imread(mosaic_image_path)\n",
    "    \n",
    "    # Resize reference image to match mosaic image dimensions\n",
    "    reference_image_resized = resize_image(reference_image, mosaic_image.shape)\n",
    "    \n",
    "    # Calculate metrics\n",
    "    entropy = calculate_entropy(mosaic_image)\n",
    "    clarity = calculate_clarity(mosaic_image)\n",
    "    # registration_error = calculate_registration_error(reference_points, transformed_points)\n",
    "    psnr_value = calculate_psnr(reference_image_resized, mosaic_image)\n",
    "    ssim_value = calculate_ssim(reference_image_resized, mosaic_image)\n",
    "    mutual_information = calculate_mutual_information(reference_image_resized, mosaic_image)\n",
    "    \n",
    "    return (entropy, clarity, psnr_value, ssim_value, mutual_information)"
   ]
  }
 ],
 "metadata": {
  "kernelspec": {
   "display_name": "Python 3",
   "language": "python",
   "name": "python3"
  },
  "language_info": {
   "codemirror_mode": {
    "name": "ipython",
    "version": 3
   },
   "file_extension": ".py",
   "mimetype": "text/x-python",
   "name": "python",
   "nbconvert_exporter": "python",
   "pygments_lexer": "ipython3",
   "version": "3.8.8"
  }
 },
 "nbformat": 4,
 "nbformat_minor": 5
}
